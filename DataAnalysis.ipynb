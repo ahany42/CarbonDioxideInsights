{
 "cells": [
  {
   "cell_type": "markdown",
   "metadata": {},
   "source": [
    "# Carbon Dioxide Insights"
   ]
  },
  {
   "cell_type": "markdown",
   "metadata": {},
   "source": [
    "### Imports"
   ]
  },
  {
   "cell_type": "code",
   "execution_count": 3,
   "metadata": {},
   "outputs": [
    {
     "name": "stderr",
     "output_type": "stream",
     "text": [
      "<>:6: SyntaxWarning: invalid escape sequence '\\C'\n",
      "<>:6: SyntaxWarning: invalid escape sequence '\\C'\n",
      "C:\\Users\\Aly Hany\\AppData\\Local\\Temp\\ipykernel_3524\\1355072045.py:6: SyntaxWarning: invalid escape sequence '\\C'\n",
      "  file_path = \"carbon_co2_emissions\\Carbon_(CO2)_Emissions_by_Country.csv\"\n"
     ]
    }
   ],
   "source": [
    "import zipfile\n",
    "import pandas as pd\n",
    "\n",
    "with zipfile.ZipFile(\"carbon-co2-emissions.zip\", 'r') as zip_ref:\n",
    "    zip_ref.extractall(\"carbon_co2_emissions\")\n",
    "file_path = \"carbon_co2_emissions\\Carbon_(CO2)_Emissions_by_Country.csv\"  \n",
    "data = pd.read_csv(file_path)\n",
    "df = pd.DataFrame(data)"
   ]
  },
  {
   "cell_type": "markdown",
   "metadata": {},
   "source": [
    "### Data Exploration"
   ]
  },
  {
   "cell_type": "code",
   "execution_count": 4,
   "metadata": {},
   "outputs": [
    {
     "name": "stdout",
     "output_type": "stream",
     "text": [
      "       Kilotons of Co2  Metric Tons Per Capita\n",
      "count     5.677000e+03             5677.000000\n",
      "mean      1.412292e+05                4.325505\n",
      "std       6.491258e+05                5.503834\n",
      "min       0.000000e+00                0.000000\n",
      "25%       1.380000e+03                0.570000\n",
      "50%       9.170000e+03                2.360000\n",
      "75%       5.848000e+04                6.340000\n",
      "max       1.070722e+07               47.650000\n"
     ]
    }
   ],
   "source": [
    "\n",
    "print(df.describe())\n"
   ]
  },
  {
   "cell_type": "code",
   "execution_count": 5,
   "metadata": {},
   "outputs": [
    {
     "name": "stdout",
     "output_type": "stream",
     "text": [
      "<class 'pandas.core.frame.DataFrame'>\n",
      "RangeIndex: 5677 entries, 0 to 5676\n",
      "Data columns (total 5 columns):\n",
      " #   Column                  Non-Null Count  Dtype  \n",
      "---  ------                  --------------  -----  \n",
      " 0   Country                 5677 non-null   object \n",
      " 1   Region                  5677 non-null   object \n",
      " 2   Date                    5677 non-null   object \n",
      " 3   Kilotons of Co2         5677 non-null   float64\n",
      " 4   Metric Tons Per Capita  5677 non-null   float64\n",
      "dtypes: float64(2), object(3)\n",
      "memory usage: 221.9+ KB\n",
      "None\n"
     ]
    }
   ],
   "source": [
    "print(df.info())"
   ]
  },
  {
   "cell_type": "code",
   "execution_count": 6,
   "metadata": {},
   "outputs": [
    {
     "name": "stdout",
     "output_type": "stream",
     "text": [
      "       Country Region        Date  Kilotons of Co2  Metric Tons Per Capita\n",
      "0  Afghanistan   Asia  01-01-2011           8930.0                    0.31\n",
      "1  Afghanistan   Asia  01-01-2012           8080.0                    0.27\n",
      "2  Afghanistan   Asia  01-01-2010           7110.0                    0.25\n",
      "3  Afghanistan   Asia  01-01-2019           6080.0                    0.16\n",
      "4  Afghanistan   Asia  01-01-2018           6070.0                    0.17\n"
     ]
    }
   ],
   "source": [
    "print(df.head())"
   ]
  },
  {
   "cell_type": "code",
   "execution_count": 7,
   "metadata": {},
   "outputs": [
    {
     "name": "stdout",
     "output_type": "stream",
     "text": [
      "       Country  Region        Date  Kilotons of Co2  Metric Tons Per Capita\n",
      "5672  Zimbabwe  Africa  01-01-2004           9770.0                    0.80\n",
      "5673  Zimbabwe  Africa  01-01-2007           9760.0                    0.78\n",
      "5674  Zimbabwe  Africa  01-01-2010           9600.0                    0.75\n",
      "5675  Zimbabwe  Africa  01-01-2009           7750.0                    0.61\n",
      "5676  Zimbabwe  Africa  01-01-2008           7600.0                    0.61\n"
     ]
    }
   ],
   "source": [
    "print(df.tail())"
   ]
  },
  {
   "cell_type": "code",
   "execution_count": null,
   "metadata": {},
   "outputs": [
    {
     "name": "stdout",
     "output_type": "stream",
     "text": [
      "Total Emissions 801757969.56\n",
      "Average Emissions  141229.16497445834\n",
      "Top Country In Emissions  China Country\n",
      "China            1.807228e+08\n",
      "United States    1.583179e+08\n",
      "Russia           5.002867e+07\n",
      "India            3.988273e+07\n",
      "Japan            3.507659e+07\n",
      "Name: Kilotons of Co2, dtype: float64\n"
     ]
    }
   ],
   "source": [
    "total_emissions = df['Kilotons of Co2'].sum()\n",
    "print(\"Total Emissions\" , total_emissions)\n",
    "average_emissions = df['Kilotons of Co2'].mean();\n",
    "print(\"Average Emissions \" , average_emissions)\n",
    "top_country_emission = df.groupby('Country')['Kilotons of Co2'].sum().sort_values(ascending=False).head()\n",
    "print(\"Top Country In Emissions \" , top_country_emission.index[0])"
   ]
  },
  {
   "cell_type": "code",
   "execution_count": 11,
   "metadata": {},
   "outputs": [
    {
     "name": "stdout",
     "output_type": "stream",
     "text": [
      "Number of Rows:  5677 Number of Columns:  5\n"
     ]
    }
   ],
   "source": [
    "print(\"Number of Rows: \",df.shape[0] , \"Number of Columns: \",df.shape[1])"
   ]
  },
  {
   "cell_type": "code",
   "execution_count": 14,
   "metadata": {},
   "outputs": [
    {
     "data": {
      "text/html": [
       "<div>\n",
       "<style scoped>\n",
       "    .dataframe tbody tr th:only-of-type {\n",
       "        vertical-align: middle;\n",
       "    }\n",
       "\n",
       "    .dataframe tbody tr th {\n",
       "        vertical-align: top;\n",
       "    }\n",
       "\n",
       "    .dataframe thead th {\n",
       "        text-align: right;\n",
       "    }\n",
       "</style>\n",
       "<table border=\"1\" class=\"dataframe\">\n",
       "  <thead>\n",
       "    <tr style=\"text-align: right;\">\n",
       "      <th></th>\n",
       "      <th>count</th>\n",
       "      <th>mean</th>\n",
       "      <th>std</th>\n",
       "      <th>min</th>\n",
       "      <th>25%</th>\n",
       "      <th>50%</th>\n",
       "      <th>75%</th>\n",
       "      <th>max</th>\n",
       "    </tr>\n",
       "  </thead>\n",
       "  <tbody>\n",
       "    <tr>\n",
       "      <th>Kilotons of Co2</th>\n",
       "      <td>5677.0</td>\n",
       "      <td>141229.164974</td>\n",
       "      <td>649125.822199</td>\n",
       "      <td>0.0</td>\n",
       "      <td>1380.00</td>\n",
       "      <td>9170.00</td>\n",
       "      <td>58480.00</td>\n",
       "      <td>10707219.73</td>\n",
       "    </tr>\n",
       "    <tr>\n",
       "      <th>Metric Tons Per Capita</th>\n",
       "      <td>5677.0</td>\n",
       "      <td>4.325505</td>\n",
       "      <td>5.503834</td>\n",
       "      <td>0.0</td>\n",
       "      <td>0.57</td>\n",
       "      <td>2.36</td>\n",
       "      <td>6.34</td>\n",
       "      <td>47.65</td>\n",
       "    </tr>\n",
       "  </tbody>\n",
       "</table>\n",
       "</div>"
      ],
      "text/plain": [
       "                         count           mean            std  min      25%  \\\n",
       "Kilotons of Co2         5677.0  141229.164974  649125.822199  0.0  1380.00   \n",
       "Metric Tons Per Capita  5677.0       4.325505       5.503834  0.0     0.57   \n",
       "\n",
       "                            50%       75%          max  \n",
       "Kilotons of Co2         9170.00  58480.00  10707219.73  \n",
       "Metric Tons Per Capita     2.36      6.34        47.65  "
      ]
     },
     "execution_count": 14,
     "metadata": {},
     "output_type": "execute_result"
    }
   ],
   "source": [
    "df.describe().transpose()"
   ]
  },
  {
   "cell_type": "code",
   "execution_count": null,
   "metadata": {},
   "outputs": [],
   "source": []
  }
 ],
 "metadata": {
  "kernelspec": {
   "display_name": "Python 3",
   "language": "python",
   "name": "python3"
  },
  "language_info": {
   "codemirror_mode": {
    "name": "ipython",
    "version": 3
   },
   "file_extension": ".py",
   "mimetype": "text/x-python",
   "name": "python",
   "nbconvert_exporter": "python",
   "pygments_lexer": "ipython3",
   "version": "3.13.0"
  }
 },
 "nbformat": 4,
 "nbformat_minor": 2
}
